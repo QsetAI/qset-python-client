{
 "cells": [
  {
   "cell_type": "markdown",
   "metadata": {},
   "source": [
    "# Qset Python API QuickStart"
   ]
  },
  {
   "cell_type": "markdown",
   "metadata": {},
   "source": [
    "## Client installation\n",
    "Prerequisites: Python 3.6+"
   ]
  },
  {
   "cell_type": "code",
   "execution_count": null,
   "metadata": {},
   "outputs": [],
   "source": [
    "!pip install qset-python-client"
   ]
  },
  {
   "cell_type": "markdown",
   "metadata": {},
   "source": [
    "## Create client instance"
   ]
  },
  {
   "cell_type": "code",
   "execution_count": 10,
   "metadata": {},
   "outputs": [],
   "source": [
    "from qset import Client\n",
    "cli = Client(api_key='<your-api-key>')"
   ]
  },
  {
   "cell_type": "markdown",
   "metadata": {},
   "source": [
    "## Feature Store Structure\n",
    "Qset Feature Store consists of Feature Sets and Data Sets. \n",
    "- The **feature** is a data entity (e.g. \"price\", \"volume\")\n",
    "- The **feature set** is schema that represents a list of features (e.g. \"timebars\", \"volumebars\", \"ohlcv\")\n",
    "- The **dataset** is a materialized version of a feature set. Every dataset has a configuration that defines how it is calculated. It always includes a **universe** (a source on which the feature set is calculated) and may include other properties, like a time period or a bar frequency.  \n",
    "- The **asset dataset** is a type of a dataset that represents a timeseries of a financial asset (e.g. \"AAPL\", \"btc-usdt\")"
   ]
  },
  {
   "cell_type": "markdown",
   "metadata": {},
   "source": [
    "## API Overview \n",
    "See interactive docs here: http://api.qset.ai/docs"
   ]
  },
  {
   "cell_type": "code",
   "execution_count": 16,
   "metadata": {},
   "outputs": [
    {
     "data": {
      "text/html": [
       "<div>\n",
       "<style scoped>\n",
       "    .dataframe tbody tr th:only-of-type {\n",
       "        vertical-align: middle;\n",
       "    }\n",
       "\n",
       "    .dataframe tbody tr th {\n",
       "        vertical-align: top;\n",
       "    }\n",
       "\n",
       "    .dataframe thead th {\n",
       "        text-align: right;\n",
       "    }\n",
       "</style>\n",
       "<table border=\"1\" class=\"dataframe\">\n",
       "  <thead>\n",
       "    <tr style=\"text-align: right;\">\n",
       "      <th></th>\n",
       "      <th>name</th>\n",
       "      <th>universe</th>\n",
       "      <th>featureset</th>\n",
       "      <th>desc</th>\n",
       "      <th>type</th>\n",
       "    </tr>\n",
       "  </thead>\n",
       "  <tbody>\n",
       "    <tr>\n",
       "      <th>0</th>\n",
       "      <td>binance_timebars_5</td>\n",
       "      <td>binance</td>\n",
       "      <td>timebars</td>\n",
       "      <td>{'period': '5'}</td>\n",
       "      <td>asset</td>\n",
       "    </tr>\n",
       "    <tr>\n",
       "      <th>1</th>\n",
       "      <td>binance_timebars_600</td>\n",
       "      <td>binance</td>\n",
       "      <td>timebars</td>\n",
       "      <td>{'period': '600'}</td>\n",
       "      <td>asset</td>\n",
       "    </tr>\n",
       "    <tr>\n",
       "      <th>2</th>\n",
       "      <td>binance_f_timebars_5</td>\n",
       "      <td>binance_f</td>\n",
       "      <td>timebars</td>\n",
       "      <td>{'period': '5'}</td>\n",
       "      <td>asset</td>\n",
       "    </tr>\n",
       "    <tr>\n",
       "      <th>3</th>\n",
       "      <td>binance_f_timebars_600</td>\n",
       "      <td>binance_f</td>\n",
       "      <td>timebars</td>\n",
       "      <td>{'period': '600'}</td>\n",
       "      <td>asset</td>\n",
       "    </tr>\n",
       "    <tr>\n",
       "      <th>4</th>\n",
       "      <td>binance_f_timebars_1800</td>\n",
       "      <td>binance_f</td>\n",
       "      <td>timebars</td>\n",
       "      <td>{'period': '1800'}</td>\n",
       "      <td>asset</td>\n",
       "    </tr>\n",
       "  </tbody>\n",
       "</table>\n",
       "</div>"
      ],
      "text/plain": [
       "                      name   universe featureset                desc   type\n",
       "0       binance_timebars_5    binance   timebars     {'period': '5'}  asset\n",
       "1     binance_timebars_600    binance   timebars   {'period': '600'}  asset\n",
       "2     binance_f_timebars_5  binance_f   timebars     {'period': '5'}  asset\n",
       "3   binance_f_timebars_600  binance_f   timebars   {'period': '600'}  asset\n",
       "4  binance_f_timebars_1800  binance_f   timebars  {'period': '1800'}  asset"
      ]
     },
     "execution_count": 16,
     "metadata": {},
     "output_type": "execute_result"
    }
   ],
   "source": [
    "cli.get_available_datasets()"
   ]
  },
  {
   "cell_type": "code",
   "execution_count": 17,
   "metadata": {
    "scrolled": true
   },
   "outputs": [
    {
     "data": {
      "text/plain": [
       "{'dataset': 'binance_timebars_5',\n",
       " 'table': 'binance_timebars_5',\n",
       " 'universe': 'binance',\n",
       " 'featureset': 'timebars',\n",
       " 'config': {'period': '5'},\n",
       " 'max_request_range': '1h',\n",
       " 'type': 'asset',\n",
       " 'tickers': ['BTC-USDT', 'ETH-USDT', 'ETH-BTC'],\n",
       " 'columns': [['uid', 'UInt64'],\n",
       "  ['ticker', 'String'],\n",
       "  ['exchange', 'String'],\n",
       "  ['samplingRate', 'Int32'],\n",
       "  ['startRange', 'DateTime'],\n",
       "  ['startRange_ts', 'UInt64'],\n",
       "  ['endRange', 'DateTime'],\n",
       "  ['endRange_ts', 'UInt64'],\n",
       "  ['startWeek_ts', 'UInt64'],\n",
       "  ['startTs', 'Nullable(DateTime)'],\n",
       "  ['endTs', 'Nullable(DateTime)'],\n",
       "  ['pOpen', 'Nullable(Float64)'],\n",
       "  ['pClose', 'Nullable(Float64)'],\n",
       "  ['pHigh', 'Nullable(Float64)'],\n",
       "  ['pLow', 'Nullable(Float64)'],\n",
       "  ['pAHigh', 'Nullable(Float64)'],\n",
       "  ['pALow', 'Nullable(Float64)'],\n",
       "  ['pBHigh', 'Nullable(Float64)'],\n",
       "  ['pBLow', 'Nullable(Float64)'],\n",
       "  ['ofAVolume', 'Nullable(Float64)'],\n",
       "  ['ofBVolume', 'Nullable(Float64)'],\n",
       "  ['ofAn', 'Nullable(Int32)'],\n",
       "  ['ofBn', 'Nullable(Int32)'],\n",
       "  ['pVWAP', 'Nullable(Float64)'],\n",
       "  ['currentVolatility', 'Nullable(Float64)'],\n",
       "  ['currentVolume', 'Nullable(Float64)'],\n",
       "  ['MO_A_M0_Count', 'Nullable(Int32)'],\n",
       "  ['MO_B_M0_Count', 'Nullable(Int32)'],\n",
       "  ['MO_A_M1_Count', 'Nullable(Int32)'],\n",
       "  ['MO_B_M1_Count', 'Nullable(Int32)'],\n",
       "  ['MO_A_M0_mean', 'Nullable(Float64)'],\n",
       "  ['MO_B_M0_mean', 'Nullable(Float64)'],\n",
       "  ['MO_A_M1_mean', 'Nullable(Float64)'],\n",
       "  ['MO_B_M1_mean', 'Nullable(Float64)'],\n",
       "  ['MO_M0_mean', 'Nullable(Float64)'],\n",
       "  ['MO_M1_mean', 'Nullable(Float64)'],\n",
       "  ['MO_A_M0_median', 'Nullable(Float64)'],\n",
       "  ['MO_B_M0_median', 'Nullable(Float64)'],\n",
       "  ['MO_A_M1_median', 'Nullable(Float64)'],\n",
       "  ['MO_B_M1_median', 'Nullable(Float64)'],\n",
       "  ['MO_M0_median', 'Nullable(Float64)'],\n",
       "  ['MO_M1_median', 'Nullable(Float64)'],\n",
       "  ['MO_A_M0_HH', 'Nullable(Float64)'],\n",
       "  ['MO_B_M0_HH', 'Nullable(Float64)'],\n",
       "  ['MO_A_M1_HH', 'Nullable(Float64)'],\n",
       "  ['MO_B_M1_HH', 'Nullable(Float64)'],\n",
       "  ['MO_M0_HH', 'Nullable(Float64)'],\n",
       "  ['MO_M1_HH', 'Nullable(Float64)'],\n",
       "  ['P_A_best', 'Nullable(Float64)'],\n",
       "  ['P_B_best', 'Nullable(Float64)'],\n",
       "  ['OB_A_best', 'Nullable(Float64)'],\n",
       "  ['OB_B_best', 'Nullable(Float64)'],\n",
       "  ['OB_A_size_1', 'Nullable(Float64)'],\n",
       "  ['OB_A_size_2', 'Nullable(Float64)'],\n",
       "  ['OB_A_size_5', 'Nullable(Float64)'],\n",
       "  ['OB_A_size_10', 'Nullable(Float64)'],\n",
       "  ['OB_A_size_20', 'Nullable(Float64)'],\n",
       "  ['OB_A_size_40', 'Nullable(Float64)'],\n",
       "  ['OB_A_size_100', 'Nullable(Float64)'],\n",
       "  ['OB_A_size_200', 'Nullable(Float64)'],\n",
       "  ['OB_A_size_500', 'Nullable(Float64)'],\n",
       "  ['OB_B_size_1', 'Nullable(Float64)'],\n",
       "  ['OB_B_size_2', 'Nullable(Float64)'],\n",
       "  ['OB_B_size_5', 'Nullable(Float64)'],\n",
       "  ['OB_B_size_10', 'Nullable(Float64)'],\n",
       "  ['OB_B_size_20', 'Nullable(Float64)'],\n",
       "  ['OB_B_size_40', 'Nullable(Float64)'],\n",
       "  ['OB_B_size_100', 'Nullable(Float64)'],\n",
       "  ['OB_B_size_200', 'Nullable(Float64)'],\n",
       "  ['OB_B_size_500', 'Nullable(Float64)'],\n",
       "  ['P_A_avg_1', 'Nullable(Float64)'],\n",
       "  ['P_A_avg_2', 'Nullable(Float64)'],\n",
       "  ['P_A_avg_5', 'Nullable(Float64)'],\n",
       "  ['P_A_avg_10', 'Nullable(Float64)'],\n",
       "  ['P_A_avg_20', 'Nullable(Float64)'],\n",
       "  ['P_A_avg_40', 'Nullable(Float64)'],\n",
       "  ['P_A_avg_100', 'Nullable(Float64)'],\n",
       "  ['P_A_avg_200', 'Nullable(Float64)'],\n",
       "  ['P_A_avg_500', 'Nullable(Float64)'],\n",
       "  ['P_B_avg_1', 'Nullable(Float64)'],\n",
       "  ['P_B_avg_2', 'Nullable(Float64)'],\n",
       "  ['P_B_avg_5', 'Nullable(Float64)'],\n",
       "  ['P_B_avg_10', 'Nullable(Float64)'],\n",
       "  ['P_B_avg_20', 'Nullable(Float64)'],\n",
       "  ['P_B_avg_40', 'Nullable(Float64)'],\n",
       "  ['P_B_avg_100', 'Nullable(Float64)'],\n",
       "  ['P_B_avg_200', 'Nullable(Float64)'],\n",
       "  ['P_B_avg_500', 'Nullable(Float64)']]}"
      ]
     },
     "execution_count": 17,
     "metadata": {},
     "output_type": "execute_result"
    }
   ],
   "source": [
    "cli.get_dataset_overview('binance_timebars_5')"
   ]
  },
  {
   "cell_type": "code",
   "execution_count": 13,
   "metadata": {},
   "outputs": [
    {
     "data": {
      "text/plain": [
       "{'minStartRange': '2020-04-01T00:00:05',\n",
       " 'maxStartRange': '2020-09-03T23:59:55'}"
      ]
     },
     "execution_count": 13,
     "metadata": {},
     "output_type": "execute_result"
    }
   ],
   "source": [
    "cli.get_asset_dataset_range(dataset='binance_timebars_5', ticker='BTC-USDT')"
   ]
  },
  {
   "cell_type": "code",
   "execution_count": 14,
   "metadata": {
    "scrolled": true
   },
   "outputs": [
    {
     "data": {
      "text/plain": [
       "{'values': [[1599237520911129,\n",
       "   'BTC-USDT',\n",
       "   'BINANCE',\n",
       "   5,\n",
       "   datetime.datetime(2020, 6, 1, 10, 0),\n",
       "   1591005600000,\n",
       "   datetime.datetime(2020, 6, 1, 10, 0, 5),\n",
       "   1591005605000,\n",
       "   36000000,\n",
       "   datetime.datetime(2020, 6, 1, 10, 0),\n",
       "   datetime.datetime(2020, 6, 1, 10, 0, 4),\n",
       "   9541.75,\n",
       "   9542.05510729017,\n",
       "   9543.7,\n",
       "   9539.983349286136,\n",
       "   9542.34,\n",
       "   9539.983349286136,\n",
       "   9543.7,\n",
       "   9540.6,\n",
       "   1890.44448357,\n",
       "   95232.42036165,\n",
       "   14,\n",
       "   42,\n",
       "   9541.746843193601,\n",
       "   0.05,\n",
       "   0.05,\n",
       "   12,\n",
       "   34,\n",
       "   2,\n",
       "   8,\n",
       "   0.007454,\n",
       "   0.13465032352941175,\n",
       "   0.054347000000000006,\n",
       "   0.675309625,\n",
       "   0.10146867391304347,\n",
       "   0.5511171000000001,\n",
       "   0.0045,\n",
       "   0.057300500000000004,\n",
       "   0.054347000000000006,\n",
       "   0.5208375000000001,\n",
       "   0.019838500000000002,\n",
       "   0.4322935,\n",
       "   0.14976500604996557,\n",
       "   0.14508621129047286,\n",
       "   0.8477258568132284,\n",
       "   0.17806750416372696,\n",
       "   0.1396336994784993,\n",
       "   0.171442645504801,\n",
       "   9542.48,\n",
       "   9542.17,\n",
       "   0.4995,\n",
       "   0.009382,\n",
       "   23.165888,\n",
       "   55.787109999999984,\n",
       "   99.66102400000001,\n",
       "   163.12278000000003,\n",
       "   952.4472919999976,\n",
       "   1846.3277310000005,\n",
       "   5714.418949000008,\n",
       "   6736.645187000013,\n",
       "   8098.77746800002,\n",
       "   10.218082999999996,\n",
       "   20.69815299999999,\n",
       "   86.73128900000006,\n",
       "   173.68245100000007,\n",
       "   336.4801170000002,\n",
       "   903.2263140000002,\n",
       "   2807.4464409999982,\n",
       "   4810.457923000004,\n",
       "   9008.291557000013,\n",
       "   9544.7814916346,\n",
       "   9547.739695853938,\n",
       "   9552.636613101018,\n",
       "   9563.95025789389,\n",
       "   9597.536630094084,\n",
       "   9641.085216152233,\n",
       "   9811.55083639792,\n",
       "   9877.313267978361,\n",
       "   10054.639468079147,\n",
       "   9540.842579651197,\n",
       "   9537.72084563053,\n",
       "   9528.528453700364,\n",
       "   9516.035041258947,\n",
       "   9492.07584260979,\n",
       "   9431.00086906494,\n",
       "   9299.732429550919,\n",
       "   9109.802719817126,\n",
       "   8598.349666561833]],\n",
       " 'total': 1}"
      ]
     },
     "execution_count": 14,
     "metadata": {},
     "output_type": "execute_result"
    }
   ],
   "source": [
    "cli.get_asset_dataset(dataset='binance_timebars_5', \n",
    "                   ticker='BTC-USDT', \n",
    "                   start='2020.06.01 10:00:00', \n",
    "                   end='2020.06.01 10:00:05')"
   ]
  },
  {
   "cell_type": "code",
   "execution_count": 18,
   "metadata": {},
   "outputs": [
    {
     "data": {
      "text/plain": [
       "{'values': [[9541.746843193601]], 'total': 1}"
      ]
     },
     "execution_count": 18,
     "metadata": {},
     "output_type": "execute_result"
    }
   ],
   "source": [
    "cli.get_asset_dataset(dataset='binance_timebars_5', \n",
    "                   ticker='BTC-USDT', \n",
    "                   start='2020.06.01 10:00:00', \n",
    "                   end='2020.06.01 10:00:05', \n",
    "                   columns=['pVWAP'])"
   ]
  },
  {
   "cell_type": "markdown",
   "metadata": {},
   "source": [
    "## Client Data Delivery\n",
    "Qset Client has a built-in wrappers for efficient data requesting from the API. "
   ]
  },
  {
   "cell_type": "code",
   "execution_count": 19,
   "metadata": {},
   "outputs": [
    {
     "data": {
      "application/vnd.jupyter.widget-view+json": {
       "model_id": "ff5616ec8b224d1b8f4dc71b6ea17609",
       "version_major": 2,
       "version_minor": 0
      },
      "text/plain": [
       "HBox(children=(HTML(value=''), FloatProgress(value=0.0, max=26.0), HTML(value='')))"
      ]
     },
     "metadata": {},
     "output_type": "display_data"
    },
    {
     "name": "stdout",
     "output_type": "stream",
     "text": [
      "\n"
     ]
    },
    {
     "data": {
      "text/html": [
       "<div>\n",
       "<style scoped>\n",
       "    .dataframe tbody tr th:only-of-type {\n",
       "        vertical-align: middle;\n",
       "    }\n",
       "\n",
       "    .dataframe tbody tr th {\n",
       "        vertical-align: top;\n",
       "    }\n",
       "\n",
       "    .dataframe thead th {\n",
       "        text-align: right;\n",
       "    }\n",
       "</style>\n",
       "<table border=\"1\" class=\"dataframe\">\n",
       "  <thead>\n",
       "    <tr style=\"text-align: right;\">\n",
       "      <th></th>\n",
       "      <th>startRange</th>\n",
       "      <th>pVWAP</th>\n",
       "    </tr>\n",
       "  </thead>\n",
       "  <tbody>\n",
       "    <tr>\n",
       "      <th>0</th>\n",
       "      <td>2020-06-01 10:00:00</td>\n",
       "      <td>9541.746843</td>\n",
       "    </tr>\n",
       "    <tr>\n",
       "      <th>1</th>\n",
       "      <td>2020-06-01 10:00:05</td>\n",
       "      <td>9541.439337</td>\n",
       "    </tr>\n",
       "    <tr>\n",
       "      <th>2</th>\n",
       "      <td>2020-06-01 10:00:10</td>\n",
       "      <td>9541.426286</td>\n",
       "    </tr>\n",
       "    <tr>\n",
       "      <th>3</th>\n",
       "      <td>2020-06-01 10:00:15</td>\n",
       "      <td>9539.757527</td>\n",
       "    </tr>\n",
       "    <tr>\n",
       "      <th>4</th>\n",
       "      <td>2020-06-01 10:00:20</td>\n",
       "      <td>9539.608216</td>\n",
       "    </tr>\n",
       "    <tr>\n",
       "      <th>...</th>\n",
       "      <td>...</td>\n",
       "      <td>...</td>\n",
       "    </tr>\n",
       "    <tr>\n",
       "      <th>18714</th>\n",
       "      <td>2020-06-02 11:59:35</td>\n",
       "      <td>10117.849291</td>\n",
       "    </tr>\n",
       "    <tr>\n",
       "      <th>18715</th>\n",
       "      <td>2020-06-02 11:59:40</td>\n",
       "      <td>10119.051351</td>\n",
       "    </tr>\n",
       "    <tr>\n",
       "      <th>18716</th>\n",
       "      <td>2020-06-02 11:59:45</td>\n",
       "      <td>10117.896965</td>\n",
       "    </tr>\n",
       "    <tr>\n",
       "      <th>18717</th>\n",
       "      <td>2020-06-02 11:59:50</td>\n",
       "      <td>10115.770162</td>\n",
       "    </tr>\n",
       "    <tr>\n",
       "      <th>18718</th>\n",
       "      <td>2020-06-02 11:59:55</td>\n",
       "      <td>10116.022257</td>\n",
       "    </tr>\n",
       "  </tbody>\n",
       "</table>\n",
       "<p>18719 rows × 2 columns</p>\n",
       "</div>"
      ],
      "text/plain": [
       "               startRange         pVWAP\n",
       "0     2020-06-01 10:00:00   9541.746843\n",
       "1     2020-06-01 10:00:05   9541.439337\n",
       "2     2020-06-01 10:00:10   9541.426286\n",
       "3     2020-06-01 10:00:15   9539.757527\n",
       "4     2020-06-01 10:00:20   9539.608216\n",
       "...                   ...           ...\n",
       "18714 2020-06-02 11:59:35  10117.849291\n",
       "18715 2020-06-02 11:59:40  10119.051351\n",
       "18716 2020-06-02 11:59:45  10117.896965\n",
       "18717 2020-06-02 11:59:50  10115.770162\n",
       "18718 2020-06-02 11:59:55  10116.022257\n",
       "\n",
       "[18719 rows x 2 columns]"
      ]
     },
     "execution_count": 19,
     "metadata": {},
     "output_type": "execute_result"
    }
   ],
   "source": [
    "# fetch data and convert it to a pandas dataframe\n",
    "cli.get_dataset(dataset='binance_timebars_5', query={'start': '2020.06.01 10:00:00',\n",
    "                                                  'end': '2020.06.02 12:00:00',\n",
    "                                                  'columns': ['startRange', 'pVWAP'],\n",
    "                                                  'ticker': 'BTC-USDT'})"
   ]
  },
  {
   "cell_type": "code",
   "execution_count": 20,
   "metadata": {},
   "outputs": [
    {
     "data": {
      "application/vnd.jupyter.widget-view+json": {
       "model_id": "cc721a22ac8e44cd8a4bebd9cd55f725",
       "version_major": 2,
       "version_minor": 0
      },
      "text/plain": [
       "HBox(children=(HTML(value=''), FloatProgress(value=0.0, max=1.0), HTML(value='')))"
      ]
     },
     "metadata": {},
     "output_type": "display_data"
    },
    {
     "name": "stdout",
     "output_type": "stream",
     "text": [
      "\n",
      "startRange,pVWAP\n",
      "2020-06-01 10:00:00,9541.746843193601\n",
      "2020-06-01 10:00:05,9541.439336870859\n",
      "\n"
     ]
    }
   ],
   "source": [
    "with tempfile.TemporaryDirectory() as tmpdir:\n",
    "    fn = os.path.join(tmpdir, 'test.csv')\n",
    "    \n",
    "    \n",
    "    # fetch data and save it to a .csv file\n",
    "    cli.download_dataset(dataset='binance_timebars_5', fn=fn, query={'start': '2020.06.01 10:00:00',\n",
    "                                                                   'end': '2020.06.01 10:00:10',\n",
    "                                                                   'columns': ['startRange', 'pVWAP'],\n",
    "                                                                   'ticker': 'BTC-USDT'})    \n",
    "    with open(fn, 'r') as f:\n",
    "        print(f.read())"
   ]
  }
 ],
 "metadata": {
  "kernelspec": {
   "display_name": "Python 3",
   "language": "python",
   "name": "python3"
  },
  "language_info": {
   "codemirror_mode": {
    "name": "ipython",
    "version": 3
   },
   "file_extension": ".py",
   "mimetype": "text/x-python",
   "name": "python",
   "nbconvert_exporter": "python",
   "pygments_lexer": "ipython3",
   "version": "3.8.5"
  }
 },
 "nbformat": 4,
 "nbformat_minor": 4
}
